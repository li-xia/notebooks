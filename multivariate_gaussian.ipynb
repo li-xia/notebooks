{
 "cells": [
  {
   "cell_type": "heading",
   "level": 1,
   "metadata": {
    "collapsed": true
   },
   "source": [
    "Multivariate Gaussian"
   ]
  },
  {
   "cell_type": "heading",
   "level": 1,
   "metadata": {},
   "source": [
    "Multivariate Gaussian or multivariate normal is a generalisation of 1-d univariate Gaussian to higher dimensions. A random vector is said to be k-variate normally distributed if every linear combination of its k components has a univariate Gaussian distribution [1]."
   ]
  },
  {
   "cell_type": "code",
   "execution_count": null,
   "metadata": {
    "collapsed": true
   },
   "outputs": [],
   "source": [
    "import numpy as np\n",
    "import scipy.stats as sps"
   ]
  }
 ],
 "metadata": {
  "kernelspec": {
   "display_name": "Python 2",
   "language": "python",
   "name": "python2"
  },
  "language_info": {
   "codemirror_mode": {
    "name": "ipython",
    "version": 2
   },
   "file_extension": ".py",
   "mimetype": "text/x-python",
   "name": "python",
   "nbconvert_exporter": "python",
   "pygments_lexer": "ipython2",
   "version": "2.7.13"
  }
 },
 "nbformat": 4,
 "nbformat_minor": 0
}
